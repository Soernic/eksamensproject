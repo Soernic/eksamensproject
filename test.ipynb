{
 "cells": [
  {
   "cell_type": "code",
   "execution_count": 7,
   "metadata": {},
   "outputs": [
    {
     "data": {
      "text/plain": [
       "[0, 2, 2, 4, 4, 7, 7, 7, 10, 10]"
      ]
     },
     "execution_count": 7,
     "metadata": {},
     "output_type": "execute_result"
    }
   ],
   "source": [
    "import numpy as np\n",
    "\n",
    "def roundGrade(grades: np.array):\n",
    "    \"\"\"\n",
    "    Made by: Søren\n",
    "    _summary_\n",
    "\n",
    "    Args:\n",
    "        grades (np.array): _description_\n",
    "\n",
    "    Returns:\n",
    "        _type_: _description_\n",
    "    \"\"\"\n",
    "    # Function takes vector of grades and rounds them to the nearest appropriate grade to correct for potential data errors.\n",
    "    possible_grades = np.array([-3, 0, 2, 4, 7, 10, 12])\n",
    "    gradesRounded = np.array([min(possible_grades, key=lambda x: abs(x - grade)) for grade in grades])\n",
    "    return gradesRounded\n",
    "\n",
    "roundGrade(np.array([1, 2, 3, 4, 5, 6, 7, 8, 9, 10]))"
   ]
  },
  {
   "cell_type": "code",
   "execution_count": null,
   "metadata": {},
   "outputs": [],
   "source": []
  },
  {
   "cell_type": "code",
   "execution_count": 75,
   "metadata": {},
   "outputs": [
    {
     "data": {
      "text/plain": [
       "(array([4.99137116, 6.60058509, 7.99710679, 9.87340621, 7.26894962,\n",
       "        3.00370304]),\n",
       " array([5.17348344, 4.91270862, 4.90128392, 4.89535955, 4.88503714,\n",
       "        4.97211989]))"
      ]
     },
     "execution_count": 75,
     "metadata": {},
     "output_type": "execute_result"
    }
   ],
   "source": [
    "import numpy as np\n",
    "\n",
    "students = 6\n",
    "assignments = 10\n",
    "grades = np.zeros((students,assignments))\n",
    "\n",
    "for i in range(students):\n",
    "    grades[i] = np.random.randint(0, 12, assignments) \n",
    "    y = grades[:, 1]\n",
    "    y += np.random.normal(0, 0.1, students)\n",
    "\n",
    "    x = np.ones(students) * (i*1)\n",
    "    x += np.random.normal(0, 0.1, students)\n",
    "\n",
    "y, x"
   ]
  }
 ],
 "metadata": {
  "kernelspec": {
   "display_name": "Python 3.9.13 ('base')",
   "language": "python",
   "name": "python3"
  },
  "language_info": {
   "codemirror_mode": {
    "name": "ipython",
    "version": 3
   },
   "file_extension": ".py",
   "mimetype": "text/x-python",
   "name": "python",
   "nbconvert_exporter": "python",
   "pygments_lexer": "ipython3",
   "version": "3.9.13"
  },
  "orig_nbformat": 4,
  "vscode": {
   "interpreter": {
    "hash": "ad2bdc8ecc057115af97d19610ffacc2b4e99fae6737bb82f5d7fb13d2f2c186"
   }
  }
 },
 "nbformat": 4,
 "nbformat_minor": 2
}
